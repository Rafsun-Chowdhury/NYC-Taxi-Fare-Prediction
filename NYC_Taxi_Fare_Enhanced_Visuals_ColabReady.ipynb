{
 "cells": [
  {
   "cell_type": "markdown",
   "id": "b157b6fc",
   "metadata": {},
   "source": [
    "\n",
    "# 🚕 NYC Taxi Fare Estimator\n",
    "\n",
    "This project predicts the **total cost** of a taxi ride in New York City using pickup time, trip distance, and basic ride details. The model simulates how a platform could estimate fares in real-time, improving rider transparency and business efficiency.\n"
   ]
  },
  {
   "cell_type": "markdown",
   "id": "654750a4",
   "metadata": {},
   "source": [
    "## 📂 Load Dataset (Colab Compatible)"
   ]
  },
  {
   "cell_type": "code",
   "execution_count": null,
   "id": "63961f21",
   "metadata": {},
   "outputs": [],
   "source": [
    "\n",
    "import os\n",
    "import pandas as pd\n",
    "import numpy as np\n",
    "import matplotlib.pyplot as plt\n",
    "import seaborn as sns\n",
    "\n",
    "from sklearn.model_selection import train_test_split\n",
    "from sklearn.linear_model import LinearRegression\n",
    "from sklearn.ensemble import RandomForestRegressor\n",
    "from sklearn.metrics import mean_absolute_error, mean_squared_error, r2_score\n",
    "\n",
    "import warnings\n",
    "warnings.filterwarnings('ignore')\n",
    "\n",
    "# Download dataset from GitHub if running in Colab\n",
    "if \"google.colab\" in str(get_ipython()):\n",
    "    !wget https://raw.githubusercontent.com/Rafsun-Chowdhury/NYC-Taxi-Fare-Prediction/main/taxi_fare_data.csv\n",
    "\n",
    "df = pd.read_csv(\"taxi_fare_data.csv\")\n",
    "df.head()\n"
   ]
  },
  {
   "cell_type": "markdown",
   "id": "63719dda",
   "metadata": {},
   "source": [
    "## 🔍 Initial Exploration & Cleaning"
   ]
  },
  {
   "cell_type": "code",
   "execution_count": null,
   "id": "39103b0b",
   "metadata": {},
   "outputs": [],
   "source": [
    "\n",
    "df.dropna(inplace=True)\n",
    "\n",
    "# Convert datetime\n",
    "df['pickup_datetime'] = pd.to_datetime(df['pickup_datetime'])\n",
    "df['dropoff_datetime'] = pd.to_datetime(df['dropoff_datetime'])\n",
    "\n",
    "# Create trip duration in minutes\n",
    "df['duration'] = (df['dropoff_datetime'] - df['pickup_datetime']).dt.total_seconds() / 60\n",
    "\n",
    "# Extract hour and day\n",
    "df['hour'] = df['pickup_datetime'].dt.hour\n",
    "df['day_of_week'] = df['pickup_datetime'].dt.dayofweek\n",
    "\n",
    "# Filter outliers\n",
    "df = df[(df['total_amount'] > 0) & (df['total_amount'] < 300)]\n",
    "df = df[(df['trip_distance'] > 0) & (df['trip_distance'] < 100)]\n",
    "df = df[(df['duration'] > 0) & (df['duration'] < 180)]\n",
    "\n",
    "df[['trip_distance', 'duration', 'hour', 'day_of_week', 'total_amount']].describe()\n"
   ]
  },
  {
   "cell_type": "markdown",
   "id": "8b31d38c",
   "metadata": {},
   "source": [
    "## 🎯 Feature Selection & Target"
   ]
  },
  {
   "cell_type": "code",
   "execution_count": null,
   "id": "0d59e7bc",
   "metadata": {},
   "outputs": [],
   "source": [
    "\n",
    "features = ['trip_distance', 'duration', 'hour', 'day_of_week', 'passenger_count']\n",
    "X = df[features]\n",
    "y = df['total_amount']\n",
    "\n",
    "X_train, X_test, y_train, y_test = train_test_split(X, y, test_size=0.2, random_state=42)\n"
   ]
  },
  {
   "cell_type": "markdown",
   "id": "4af9b5f0",
   "metadata": {},
   "source": [
    "## 🤖 Model Training & Prediction"
   ]
  },
  {
   "cell_type": "code",
   "execution_count": null,
   "id": "6a0cbe23",
   "metadata": {},
   "outputs": [],
   "source": [
    "\n",
    "# Linear Regression\n",
    "lr = LinearRegression()\n",
    "lr.fit(X_train, y_train)\n",
    "y_pred_lr = lr.predict(X_test)\n",
    "\n",
    "# Random Forest\n",
    "rf = RandomForestRegressor(random_state=42)\n",
    "rf.fit(X_train, y_train)\n",
    "y_pred_rf = rf.predict(X_test)\n"
   ]
  },
  {
   "cell_type": "markdown",
   "id": "7c26cab1",
   "metadata": {},
   "source": [
    "## 📈 Model Evaluation"
   ]
  },
  {
   "cell_type": "code",
   "execution_count": null,
   "id": "1bafaaec",
   "metadata": {},
   "outputs": [],
   "source": [
    "\n",
    "def evaluate(y_test, y_pred, model_name):\n",
    "    mae = mean_absolute_error(y_test, y_pred)\n",
    "    rmse = np.sqrt(mean_squared_error(y_test, y_pred))\n",
    "    r2 = r2_score(y_test, y_pred)\n",
    "    print(f\"{model_name} Results:\")\n",
    "    print(f\"MAE: ${mae:.2f}\")\n",
    "    print(f\"RMSE: ${rmse:.2f}\")\n",
    "    print(f\"R² Score: {r2:.2f}\\n\")\n",
    "\n",
    "evaluate(y_test, y_pred_lr, \"Linear Regression\")\n",
    "evaluate(y_test, y_pred_rf, \"Random Forest\")\n"
   ]
  },
  {
   "cell_type": "markdown",
   "id": "7d657fcb",
   "metadata": {},
   "source": [
    "## 📊 Prediction Visualization"
   ]
  },
  {
   "cell_type": "code",
   "execution_count": null,
   "id": "82ac5c11",
   "metadata": {},
   "outputs": [],
   "source": [
    "\n",
    "plt.figure(figsize=(8,6))\n",
    "sns.scatterplot(x=y_test, y=y_pred_rf, alpha=0.3)\n",
    "plt.xlabel(\"Actual Total Fare\")\n",
    "plt.ylabel(\"Predicted Fare\")\n",
    "plt.title(\"Random Forest: Actual vs Predicted Fare\")\n",
    "plt.grid(True)\n",
    "plt.show()\n"
   ]
  },
  {
   "cell_type": "markdown",
   "id": "a18b6efe",
   "metadata": {},
   "source": [
    "## ⏱️ Average Fare by Hour of Day"
   ]
  },
  {
   "cell_type": "code",
   "execution_count": null,
   "id": "63889bf8",
   "metadata": {},
   "outputs": [],
   "source": [
    "\n",
    "plt.figure(figsize=(10,5))\n",
    "sns.barplot(x='hour', y='total_amount', data=df)\n",
    "plt.title(\"Average Total Fare by Hour of Day\")\n",
    "plt.xlabel(\"Hour of Pickup\")\n",
    "plt.ylabel(\"Average Fare ($)\")\n",
    "plt.grid(True)\n",
    "plt.show()\n"
   ]
  },
  {
   "cell_type": "markdown",
   "id": "c927f851",
   "metadata": {},
   "source": [
    "## 📉 Prediction Error Distribution"
   ]
  },
  {
   "cell_type": "code",
   "execution_count": null,
   "id": "1774144c",
   "metadata": {},
   "outputs": [],
   "source": [
    "\n",
    "errors = y_test - y_pred_rf\n",
    "plt.figure(figsize=(8,4))\n",
    "sns.histplot(errors, kde=True)\n",
    "plt.title(\"Distribution of Prediction Errors (Random Forest)\")\n",
    "plt.xlabel(\"Prediction Error ($)\")\n",
    "plt.grid(True)\n",
    "plt.show()\n"
   ]
  },
  {
   "cell_type": "markdown",
   "id": "2aed0697",
   "metadata": {},
   "source": [
    "## 💡 Predict Fare for Custom Input"
   ]
  },
  {
   "cell_type": "code",
   "execution_count": null,
   "id": "9fa67267",
   "metadata": {},
   "outputs": [],
   "source": [
    "\n",
    "def predict_fare(model, distance, duration, hour, day, passengers):\n",
    "    features = np.array([[distance, duration, hour, day, passengers]])\n",
    "    pred = model.predict(features)[0]\n",
    "    print(f\"Estimated Fare: ${pred:.2f}\")\n",
    "\n",
    "# Example usage:\n",
    "predict_fare(rf, distance=4.0, duration=12, hour=18, day=2, passengers=1)\n"
   ]
  },
  {
   "cell_type": "markdown",
   "id": "310fe38f",
   "metadata": {},
   "source": [
    "\n",
    "## ✅ Conclusion\n",
    "\n",
    "This model demonstrates a realistic fare estimation system using public taxi data. With added geolocation and external features (like weather or zones), this project could be extended into a production-level application or dashboard.\n"
   ]
  }
 ],
 "metadata": {},
 "nbformat": 4,
 "nbformat_minor": 5
}
