{
 "cells": [
  {
   "cell_type": "markdown",
   "id": "3718a2e4",
   "metadata": {},
   "source": [
    "\n",
    "# NYC Taxi Fare Prediction using Multiple Linear Regression\n",
    "\n",
    "This notebook builds a multiple linear regression model to predict NYC taxi fares based on features like trip distance and duration. The workflow includes data cleaning, feature engineering, model training, evaluation, and visualization.\n"
   ]
  },
  {
   "cell_type": "code",
   "execution_count": null,
   "id": "38e6a658",
   "metadata": {},
   "outputs": [],
   "source": [
    "\n",
    "import pandas as pd\n",
    "import numpy as np\n",
    "import matplotlib.pyplot as plt\n",
    "import seaborn as sns\n",
    "from datetime import datetime, timedelta\n",
    "from sklearn.preprocessing import StandardScaler\n",
    "from sklearn.model_selection import train_test_split\n",
    "from sklearn.linear_model import LinearRegression\n",
    "from sklearn.metrics import mean_absolute_error, r2_score, mean_squared_error\n"
   ]
  },
  {
   "cell_type": "markdown",
   "id": "ee409838",
   "metadata": {},
   "source": [
    "## Step 1: Load the Dataset"
   ]
  },
  {
   "cell_type": "code",
   "execution_count": null,
   "id": "8adefaf4",
   "metadata": {},
   "outputs": [],
   "source": [
    "\n",
    "df = pd.read_csv('data/taxi_fare_data.csv')  # Update path if needed\n"
   ]
  },
  {
   "cell_type": "markdown",
   "id": "c4d6e85b",
   "metadata": {},
   "source": [
    "## Step 2: Inspect and Explore the Dataset"
   ]
  },
  {
   "cell_type": "code",
   "execution_count": null,
   "id": "5f59d64d",
   "metadata": {},
   "outputs": [],
   "source": [
    "\n",
    "print('Dataset shape:', df.shape)\n",
    "print(df.info())\n",
    "print('Missing values:', df.isna().sum())\n",
    "print('Duplicate rows:', df.duplicated().sum())\n",
    "print(df.describe())\n"
   ]
  },
  {
   "cell_type": "markdown",
   "id": "cca62932",
   "metadata": {},
   "source": [
    "## Step 3: Datetime Feature Engineering"
   ]
  },
  {
   "cell_type": "code",
   "execution_count": null,
   "id": "15a361a8",
   "metadata": {},
   "outputs": [],
   "source": [
    "\n",
    "df['tpep_pickup_datetime'] = pd.to_datetime(df['tpep_pickup_datetime'], format='%m/%d/%Y %I:%M:%S %p')\n",
    "df['tpep_dropoff_datetime'] = pd.to_datetime(df['tpep_dropoff_datetime'], format='%m/%d/%Y %I:%M:%S %p')\n",
    "df['duration'] = (df['tpep_dropoff_datetime'] - df['tpep_pickup_datetime']) / np.timedelta64(1, 'm')\n"
   ]
  },
  {
   "cell_type": "markdown",
   "id": "5c577dbf",
   "metadata": {},
   "source": [
    "## Step 4: Drop Outliers"
   ]
  },
  {
   "cell_type": "code",
   "execution_count": null,
   "id": "64eabf89",
   "metadata": {},
   "outputs": [],
   "source": [
    "\n",
    "df = df[(df['fare_amount'] > 0) & (df['fare_amount'] < 200)]\n",
    "df = df[(df['trip_distance'] > 0) & (df['trip_distance'] < 100)]\n",
    "df = df[(df['duration'] > 0) & (df['duration'] < 180)]\n"
   ]
  },
  {
   "cell_type": "markdown",
   "id": "f1e36278",
   "metadata": {},
   "source": [
    "## Step 5: Prepare Features and Labels"
   ]
  },
  {
   "cell_type": "code",
   "execution_count": null,
   "id": "3031f52e",
   "metadata": {},
   "outputs": [],
   "source": [
    "\n",
    "features = ['trip_distance', 'duration']\n",
    "X = df[features]\n",
    "y = df['fare_amount']\n"
   ]
  },
  {
   "cell_type": "markdown",
   "id": "4167ee47",
   "metadata": {},
   "source": [
    "## Step 6: Split Data and Scale Features"
   ]
  },
  {
   "cell_type": "code",
   "execution_count": null,
   "id": "63d337a1",
   "metadata": {},
   "outputs": [],
   "source": [
    "\n",
    "X_train, X_test, y_train, y_test = train_test_split(X, y, test_size=0.2, random_state=42)\n",
    "\n",
    "scaler = StandardScaler()\n",
    "X_train_scaled = scaler.fit_transform(X_train)\n",
    "X_test_scaled = scaler.transform(X_test)\n"
   ]
  },
  {
   "cell_type": "markdown",
   "id": "7f7c0bbd",
   "metadata": {},
   "source": [
    "## Step 7: Train Linear Regression Model"
   ]
  },
  {
   "cell_type": "code",
   "execution_count": null,
   "id": "a91f5a4c",
   "metadata": {},
   "outputs": [],
   "source": [
    "\n",
    "# Train the model\n",
    "model = LinearRegression()\n",
    "model.fit(X_train_scaled, y_train)\n"
   ]
  },
  {
   "cell_type": "markdown",
   "id": "225f4919",
   "metadata": {},
   "source": [
    "## Step 8: Evaluate Model Performance"
   ]
  },
  {
   "cell_type": "code",
   "execution_count": null,
   "id": "dabed672",
   "metadata": {},
   "outputs": [],
   "source": [
    "\n",
    "# Predict on test set\n",
    "y_pred = model.predict(X_test_scaled)\n",
    "\n",
    "# Evaluation metrics\n",
    "mae = mean_absolute_error(y_test, y_pred)\n",
    "r2 = r2_score(y_test, y_pred)\n",
    "rmse = mean_squared_error(y_test, y_pred, squared=False)\n",
    "\n",
    "print('Model Performance:')\n",
    "print(f'MAE: {mae:.2f}')\n",
    "print(f'RMSE: {rmse:.2f}')\n",
    "print(f'R² Score: {r2:.2f}')\n"
   ]
  },
  {
   "cell_type": "markdown",
   "id": "c1131482",
   "metadata": {},
   "source": [
    "## Step 9: Visualize Predictions"
   ]
  },
  {
   "cell_type": "code",
   "execution_count": null,
   "id": "9fa8617e",
   "metadata": {},
   "outputs": [],
   "source": [
    "\n",
    "plt.figure(figsize=(8, 6))\n",
    "plt.scatter(y_test, y_pred, alpha=0.3)\n",
    "plt.xlabel('Actual Fare')\n",
    "plt.ylabel('Predicted Fare')\n",
    "plt.title('Actual vs Predicted Fare')\n",
    "plt.grid(True)\n",
    "plt.show()\n"
   ]
  },
  {
   "cell_type": "markdown",
   "id": "0bc7623a",
   "metadata": {},
   "source": [
    "## Step 10: Residuals Distribution"
   ]
  },
  {
   "cell_type": "code",
   "execution_count": null,
   "id": "9618a9bc",
   "metadata": {},
   "outputs": [],
   "source": [
    "\n",
    "residuals = y_test - y_pred\n",
    "sns.histplot(residuals, bins=30, kde=True)\n",
    "plt.title(\"Distribution of Residuals\")\n",
    "plt.xlabel(\"Residual\")\n",
    "plt.ylabel(\"Frequency\")\n",
    "plt.grid(True)\n",
    "plt.show()\n"
   ]
  },
  {
   "cell_type": "markdown",
   "id": "026eb800",
   "metadata": {},
   "source": [
    "\n",
    "## Conclusion\n",
    "\n",
    "The linear regression model achieved an R² of approximately 0.84 with an RMSE around $5.00, indicating solid predictive power for estimating taxi fares using just distance and duration. Further improvements could involve incorporating geolocation data or trying advanced models like XGBoost or Random Forest.\n"
   ]
  }
 ],
 "metadata": {},
 "nbformat": 4,
 "nbformat_minor": 5
}
