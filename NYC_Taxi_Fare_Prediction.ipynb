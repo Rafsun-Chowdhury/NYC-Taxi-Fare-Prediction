{
 "cells": [
  {
   "cell_type": "markdown",
   "id": "d3c10755",
   "metadata": {},
   "source": [
    "\n",
    "# 🚕 NYC Taxi Fare Prediction\n",
    "\n",
    "This notebook builds a multiple linear regression model to predict NYC taxi fares based on trip distance and duration using a cleaned sample dataset. It includes preprocessing, feature engineering, model training, and performance evaluation.\n"
   ]
  },
  {
   "cell_type": "markdown",
   "id": "09cb813d",
   "metadata": {},
   "source": [
    "## 📂 Load Dataset (Colab Compatible)"
   ]
  },
  {
   "cell_type": "code",
   "execution_count": null,
   "id": "6213ec7e",
   "metadata": {},
   "outputs": [],
   "source": [
    "\n",
    "import os\n",
    "import pandas as pd\n",
    "import numpy as np\n",
    "import matplotlib.pyplot as plt\n",
    "import seaborn as sns\n",
    "\n",
    "from sklearn.model_selection import train_test_split\n",
    "from sklearn.linear_model import LinearRegression\n",
    "from sklearn.metrics import mean_absolute_error, mean_squared_error, r2_score\n",
    "\n",
    "import warnings\n",
    "warnings.filterwarnings('ignore')\n",
    "\n",
    "# Download dataset if running in Colab\n",
    "if \"google.colab\" in str(get_ipython()):\n",
    "    !wget https://raw.githubusercontent.com/Rafsun-Chowdhury/NYC-Taxi-Fare-Prediction/main/taxi_fare_data.csv\n",
    "\n",
    "# Load the dataset\n",
    "df = pd.read_csv(\"taxi_fare_data.csv\")\n",
    "df.head()\n"
   ]
  },
  {
   "cell_type": "markdown",
   "id": "f373a354",
   "metadata": {},
   "source": [
    "## 🧮 Feature Engineering"
   ]
  },
  {
   "cell_type": "code",
   "execution_count": null,
   "id": "93a3764e",
   "metadata": {},
   "outputs": [],
   "source": [
    "\n",
    "# Convert pickup and dropoff datetime columns\n",
    "df['pickup_datetime'] = pd.to_datetime(df['pickup_datetime'])\n",
    "df['dropoff_datetime'] = pd.to_datetime(df['dropoff_datetime'])\n",
    "\n",
    "# Create duration column in minutes\n",
    "df['duration'] = (df['dropoff_datetime'] - df['pickup_datetime']).dt.total_seconds() / 60\n",
    "\n",
    "# Filter out invalid rows\n",
    "df = df[(df['fare_amount'] > 0) & (df['fare_amount'] < 200)]\n",
    "df = df[(df['trip_distance'] > 0) & (df['trip_distance'] < 100)]\n",
    "df = df[(df['duration'] > 0) & (df['duration'] < 180)]\n",
    "\n",
    "df[['trip_distance', 'duration', 'fare_amount']].describe()\n"
   ]
  },
  {
   "cell_type": "markdown",
   "id": "89623cc1",
   "metadata": {},
   "source": [
    "## 🤖 Model Training"
   ]
  },
  {
   "cell_type": "code",
   "execution_count": null,
   "id": "79fac47c",
   "metadata": {},
   "outputs": [],
   "source": [
    "\n",
    "features = ['trip_distance', 'duration']\n",
    "X = df[features]\n",
    "y = df['fare_amount']\n",
    "\n",
    "X_train, X_test, y_train, y_test = train_test_split(X, y, test_size=0.2, random_state=42)\n",
    "\n",
    "model = LinearRegression()\n",
    "model.fit(X_train, y_train)\n",
    "y_pred = model.predict(X_test)\n"
   ]
  },
  {
   "cell_type": "markdown",
   "id": "9659891f",
   "metadata": {},
   "source": [
    "## 📈 Model Evaluation"
   ]
  },
  {
   "cell_type": "code",
   "execution_count": null,
   "id": "9ffd66ad",
   "metadata": {},
   "outputs": [],
   "source": [
    "\n",
    "mae = mean_absolute_error(y_test, y_pred)\n",
    "rmse = np.sqrt(mean_squared_error(y_test, y_pred))\n",
    "r2 = r2_score(y_test, y_pred)\n",
    "\n",
    "print(f\"MAE: ${mae:.2f}\")\n",
    "print(f\"RMSE: ${rmse:.2f}\")\n",
    "print(f\"R² Score: {r2:.2f}\")\n"
   ]
  },
  {
   "cell_type": "markdown",
   "id": "341cb716",
   "metadata": {},
   "source": [
    "## 📊 Prediction Visualization"
   ]
  },
  {
   "cell_type": "code",
   "execution_count": null,
   "id": "1becb0a8",
   "metadata": {},
   "outputs": [],
   "source": [
    "\n",
    "plt.figure(figsize=(8,6))\n",
    "sns.scatterplot(x=y_test, y=y_pred, alpha=0.3)\n",
    "plt.xlabel(\"Actual Fare\")\n",
    "plt.ylabel(\"Predicted Fare\")\n",
    "plt.title(\"Actual vs Predicted Fare\")\n",
    "plt.grid(True)\n",
    "plt.show()\n"
   ]
  },
  {
   "cell_type": "markdown",
   "id": "be7f106d",
   "metadata": {},
   "source": [
    "\n",
    "## ✅ Conclusion\n",
    "\n",
    "The linear regression model shows a strong correlation between distance, trip duration, and fare amount. With additional feature engineering (e.g., pickup locations, time-of-day effects), performance could be improved further.\n"
   ]
  }
 ],
 "metadata": {},
 "nbformat": 4,
 "nbformat_minor": 5
}
