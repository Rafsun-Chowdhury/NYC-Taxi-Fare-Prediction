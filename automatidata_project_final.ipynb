{
 "cells": [
  {
   "cell_type": "markdown",
   "id": "208d9c8d",
   "metadata": {},
   "source": [
    "# NYC Taxi Fare Prediction using Multiple Linear Regression\n",
    "This project builds a multiple linear regression model to predict NYC taxi fares based on distance and duration features."
   ]
  },
  {
   "cell_type": "code",
   "execution_count": null,
   "id": "07914d2c",
   "metadata": {},
   "outputs": [],
   "source": [
    "import pandas as pd\n",
    "import numpy as np\n",
    "import matplotlib.pyplot as plt\n",
    "import seaborn as sns\n",
    "from datetime import datetime, timedelta\n",
    "from sklearn.preprocessing import StandardScaler\n",
    "from sklearn.model_selection import train_test_split\n",
    "from sklearn.linear_model import LinearRegression\n",
    "from sklearn.metrics import mean_absolute_error, r2_score, mean_squared_error"
   ]
  },
  {
   "cell_type": "markdown",
   "id": "52d4e325",
   "metadata": {},
   "source": [
    "## Step 1: Load the Dataset"
   ]
  },
  {
   "cell_type": "code",
   "execution_count": null,
   "id": "9b5aa59b",
   "metadata": {},
   "outputs": [],
   "source": [
    "df = pd.read_csv('data/taxi_fare_data.csv')  # Update path if needed"
   ]
  },
  {
   "cell_type": "markdown",
   "id": "a2345935",
   "metadata": {},
   "source": [
    "## Step 2: Inspect and Explore the Dataset"
   ]
  },
  {
   "cell_type": "code",
   "execution_count": null,
   "id": "008f2144",
   "metadata": {},
   "outputs": [],
   "source": [
    "print('Dataset shape:', df.shape)\n",
    "print(df.info())\n",
    "print('Missing values:', df.isna().sum())\n",
    "print('Duplicate rows:', df.duplicated().sum())\n",
    "print(df.describe())"
   ]
  },
  {
   "cell_type": "markdown",
   "id": "d5cc9f27",
   "metadata": {},
   "source": [
    "## Step 3: Datetime Feature Engineering"
   ]
  },
  {
   "cell_type": "code",
   "execution_count": null,
   "id": "e10fddd8",
   "metadata": {},
   "outputs": [],
   "source": [
    "df['tpep_pickup_datetime'] = pd.to_datetime(df['tpep_pickup_datetime'], format='%m/%d/%Y %I:%M:%S %p')\n",
    "df['tpep_dropoff_datetime'] = pd.to_datetime(df['tpep_dropoff_datetime'], format='%m/%d/%Y %I:%M:%S %p')\n",
    "df['duration'] = (df['tpep_dropoff_datetime'] - df['tpep_pickup_datetime']) / np.timedelta64(1, 'm')"
   ]
  },
  {
   "cell_type": "markdown",
   "id": "3069901e",
   "metadata": {},
   "source": [
    "## Step 4: Drop Outliers"
   ]
  },
  {
   "cell_type": "code",
   "execution_count": null,
   "id": "e929e016",
   "metadata": {},
   "outputs": [],
   "source": [
    "df = df[(df['fare_amount'] > 0) & (df['fare_amount'] < 200)]\n",
    "df = df[(df['trip_distance'] > 0) & (df['trip_distance'] < 100)]\n",
    "df = df[(df['duration'] > 0) & (df['duration'] < 180)]"
   ]
  },
  {
   "cell_type": "markdown",
   "id": "706c847e",
   "metadata": {},
   "source": [
    "## Step 5: Prepare Features and Labels"
   ]
  },
  {
   "cell_type": "code",
   "execution_count": null,
   "id": "74f7304c",
   "metadata": {},
   "outputs": [],
   "source": [
    "features = ['trip_distance', 'duration']\n",
    "X = df[features]\n",
    "y = df['fare_amount']"
   ]
  },
  {
   "cell_type": "markdown",
   "id": "c60f94ac",
   "metadata": {},
   "source": [
    "## Step 6: Split Data and Scale Features"
   ]
  },
  {
   "cell_type": "code",
   "execution_count": null,
   "id": "5d201734",
   "metadata": {},
   "outputs": [],
   "source": [
    "X_train, X_test, y_train, y_test = train_test_split(X, y, test_size=0.2, random_state=42)\n",
    "\n",
    "scaler = StandardScaler()\n",
    "X_train_scaled = scaler.fit_transform(X_train)\n",
    "X_test_scaled = scaler.transform(X_test)"
   ]
  },
  {
   "cell_type": "markdown",
   "id": "ffbd4f1a",
   "metadata": {},
   "source": [
    "## Step 7: Train Linear Regression Model"
   ]
  },
  {
   "cell_type": "code",
   "execution_count": null,
   "id": "08f433ec",
   "metadata": {},
   "outputs": [],
   "source": [
    "model = LinearRegression()\n",
    "model.fit(X_train_scaled, y_train)"
   ]
  },
  {
   "cell_type": "markdown",
   "id": "1de23985",
   "metadata": {},
   "source": [
    "## Step 8: Evaluate Model Performance"
   ]
  },
  {
   "cell_type": "code",
   "execution_count": null,
   "id": "4b478dce",
   "metadata": {},
   "outputs": [],
   "source": [
    "y_pred = model.predict(X_test_scaled)\n",
    "\n",
    "mae = mean_absolute_error(y_test, y_pred)\n",
    "r2 = r2_score(y_test, y_pred)\n",
    "rmse = mean_squared_error(y_test, y_pred, squared=False)\n",
    "\n",
    "print('Model Performance:')\n",
    "print(f'MAE: {mae:.2f}')\n",
    "print(f'RMSE: {rmse:.2f}')\n",
    "print(f'R² Score: {r2:.2f}')"
   ]
  },
  {
   "cell_type": "markdown",
   "id": "efd35e7d",
   "metadata": {},
   "source": [
    "## Step 9: Visualize Predictions"
   ]
  },
  {
   "cell_type": "code",
   "execution_count": null,
   "id": "e68117d4",
   "metadata": {},
   "outputs": [],
   "source": [
    "plt.figure(figsize=(8, 6))\n",
    "plt.scatter(y_test, y_pred, alpha=0.3)\n",
    "plt.xlabel('Actual Fare')\n",
    "plt.ylabel('Predicted Fare')\n",
    "plt.title('Actual vs Predicted Fare')\n",
    "plt.grid(True)\n",
    "plt.show()"
   ]
  }
 ],
 "metadata": {},
 "nbformat": 4,
 "nbformat_minor": 5
}
